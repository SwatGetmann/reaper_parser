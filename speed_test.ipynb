{
 "cells": [
  {
   "cell_type": "code",
   "execution_count": 5,
   "metadata": {},
   "outputs": [],
   "source": [
    "from reaper_project import ReaperProject, NodeType\n",
    "from tokenizer import tokenize_node"
   ]
  },
  {
   "cell_type": "code",
   "execution_count": 3,
   "metadata": {},
   "outputs": [],
   "source": [
    "from pathlib import Path"
   ]
  },
  {
   "cell_type": "code",
   "execution_count": 4,
   "metadata": {},
   "outputs": [],
   "source": [
    "files = [\n",
    "    'D:/41-50_MUSIC/41_LAB\\Вдохновения/Electroshit/Dark Ambient/Dark Ambient.rpp',\n",
    "    'D:/41-50_MUSIC/41_LAB/Вдохновения/Tbilisi Acoustic G/221012 01 Tbilisi Sunrise/221012 01 Zoom Rec Again.rpp',\n",
    "    'D:/41-50_MUSIC/41_LAB/230416 01 mary composes/230416 01 mary composes.rpp'\n",
    "]"
   ]
  },
  {
   "cell_type": "code",
   "execution_count": null,
   "metadata": {},
   "outputs": [],
   "source": []
  },
  {
   "cell_type": "code",
   "execution_count": 26,
   "metadata": {},
   "outputs": [
    {
     "name": "stdout",
     "output_type": "stream",
     "text": [
      "30.2 ms ± 3.63 ms per loop (mean ± std. dev. of 50 runs, 10 loops each)\n"
     ]
    }
   ],
   "source": [
    "%%timeit -r 50 -n 10\n",
    "# p = Path('D:/41-50_MUSIC/41_LAB/')\n",
    "\n",
    "# for fp in p.glob(\"**/*.rpp\"):\n",
    "# for fp in files:\n",
    "    # print(\"=\"*20 + \" \" + str(fp))\n",
    "    # rp = ReaperProject(fp)\n",
    "    # rp.head.print_tree()\n",
    "    # fetch_res = rp.head.fetch(NodeType.VST, [])\n",
    "    # for res in fetch_res:\n",
    "        # print(res.parameters_first_line[0])\n",
    "        # res.print_tree()\n",
    "    # rp = tokenize_node(open(fp, 'r').readlines(), supress_output=True)\n",
    "    # vsts = []\n",
    "    # rp[0].fetch_nodes(name='VST', collection=vsts)\n",
    "    \n",
    "\n",
    "rp = ReaperProject(files[2])\n",
    "# rp = tokenize_node(open(files[2], 'r').readlines(), supress_output=True)"
   ]
  },
  {
   "cell_type": "markdown",
   "metadata": {},
   "source": [
    "// Reaper Project, with glob, with VST Search, with Prints // 2.58 s ± 75.6 ms per loop (mean ± std. dev. of 7 runs, 1 loop each)\n",
    "// Reaper Project, with glob, with VST Search, w/o Prints // 2.41 s ± 47.4 ms per loop (mean ± std. dev. of 7 runs, 1 loop each)\n",
    "// Reaper Project, with glob, w/o VST Search, w/o Prints // 2.37 s ± 79.9 ms per loop (mean ± std. dev. of 7 runs, 1 loop each)\n",
    "\n",
    "\n",
    "\n",
    "// Reaper Project, w/o glob, 3 predefined test projects, w/o VST Search, w/o Prints // 335 ms ± 7.35 ms per loop (mean ± std. dev. of 50 runs, 10 loops each)\n",
    "// Reaper Project, w/o glob, 3 predefined test projects, w/ VST Search, w/o Prints // 346 ms ± 15.3 ms per loop (mean ± std. dev. of 50 runs, 10 loops each)\n",
    "\n",
    "// Tokenizer, w/o glob, 3 predefined test projects, w/o VST Search, w/o Prints // 74.1 ms ± 3.45 ms per loop (mean ± std. dev. of 50 runs, 10 loops each)\n",
    "// Tokenizer, w/o glob, 3 predefined test projects, w/ VST Search, w/o Prints // 77.3 ms ± 3.29 ms per loop (mean ± std. dev. of 50 runs, 10 loops each)\n",
    "\n",
    "\n",
    "// Reaper Project, Test Project 1, w/o VST Search, w/o Prints // 48.8 ms ± 2.65 ms per loop (mean ± std. dev. of 50 runs, 10 loops each)\n",
    "// Tokenizer, Test Project 1, w/o VST Search, w/o Prints // 5.34 ms ± 657 µs per loop (mean ± std. dev. of 50 runs, 10 loops each)\n",
    "\n",
    "// Reaper Project, Test Project 2, w/o VST Search, w/o Prints // 260 ms ± 10 ms per loop (mean ± std. dev. of 50 runs, 10 loops each)\n",
    "// Tokenizer, Test Project 2, w/o VST Search, w/o Prints // 67.7 ms ± 3.04 ms per loop (mean ± std. dev. of 50 runs, 10 loops each)\n",
    "\n",
    "// Reaper Project, Test Project 3, w/o VST Search, w/o Prints // 30.2 ms ± 3.63 ms per loop (mean ± std. dev. of 50 runs, 10 loops each)s\n",
    "// Tokenizer, Test Project 3, w/o VST Search, w/o Prints // 3.25 ms ± 379 µs per loop (mean ± std. dev. of 50 runs, 10 loops each)"
   ]
  }
 ],
 "metadata": {
  "kernelspec": {
   "display_name": "env",
   "language": "python",
   "name": "python3"
  },
  "language_info": {
   "codemirror_mode": {
    "name": "ipython",
    "version": 3
   },
   "file_extension": ".py",
   "mimetype": "text/x-python",
   "name": "python",
   "nbconvert_exporter": "python",
   "pygments_lexer": "ipython3",
   "version": "3.9.6"
  },
  "orig_nbformat": 4
 },
 "nbformat": 4,
 "nbformat_minor": 2
}
